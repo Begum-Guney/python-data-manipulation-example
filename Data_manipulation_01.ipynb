{
  "nbformat": 4,
  "nbformat_minor": 0,
  "metadata": {
    "colab": {
      "provenance": [],
      "authorship_tag": "ABX9TyNLJLZUeBL85NDwHSYIzQAo",
      "include_colab_link": true
    },
    "kernelspec": {
      "name": "python3",
      "display_name": "Python 3"
    },
    "language_info": {
      "name": "python"
    }
  },
  "cells": [
    {
      "cell_type": "markdown",
      "metadata": {
        "id": "view-in-github",
        "colab_type": "text"
      },
      "source": [
        "<a href=\"https://colab.research.google.com/github/Begum-Guney/python-data-manipulation-example/blob/main/Data_manipulation_01.ipynb\" target=\"_parent\"><img src=\"https://colab.research.google.com/assets/colab-badge.svg\" alt=\"Open In Colab\"/></a>"
      ]
    },
    {
      "cell_type": "code",
      "source": [
        "# 📚 IMPORT LIBRARIES\n",
        "import pandas as pd\n",
        "import numpy as np\n",
        "\n",
        "# 1. READ THE CSV FILE\n",
        "# Read the extended CSV file into a pandas DataFrame\n",
        "df = pd.read_csv(\"Students_Dummy_Data.csv\")  # Update the path as needed"
      ],
      "metadata": {
        "id": "VOTYBJUSQxz8"
      },
      "execution_count": 29,
      "outputs": []
    },
    {
      "cell_type": "code",
      "source": [
        "# 2. INSPECT THE DATA\n",
        "print(df.head())            # View the first 5 rows\n",
        "print(df.dtypes)            # Check data types of all columns\n",
        "print(df.isnull().sum())    # Count missing values per column"
      ],
      "metadata": {
        "colab": {
          "base_uri": "https://localhost:8080/"
        },
        "id": "iZHDo-eFSkF9",
        "outputId": "2b797cad-fa81-4431-979d-18581a9010a9"
      },
      "execution_count": 30,
      "outputs": [
        {
          "output_type": "stream",
          "name": "stdout",
          "text": [
            "  student_name  math_score  science_score   age          student_info\n",
            "0        Alice        88.0           90.0  23.0  Alice,Female,Grade A\n",
            "1          Bob        92.0           85.0  25.0      Bob,Male,Grade B\n",
            "2      Charlie         NaN           87.0  22.0  Charlie,Male,Grade A\n",
            "3        David        79.0            NaN  24.0    David,Male,Grade C\n",
            "4          Eva        85.0           80.0  21.0    Eva,Female,Grade B\n",
            "student_name      object\n",
            "math_score       float64\n",
            "science_score    float64\n",
            "age              float64\n",
            "student_info      object\n",
            "dtype: object\n",
            "student_name     1\n",
            "math_score       2\n",
            "science_score    3\n",
            "age              1\n",
            "student_info     0\n",
            "dtype: int64\n"
          ]
        }
      ]
    },
    {
      "cell_type": "code",
      "source": [
        "# 3. CLEANING THE DATA\n",
        "\n",
        "# Fill missing math scores with 0 (e.g. student didn't attend the exam)\n",
        "df['math_score'] = df['math_score'].fillna(0)\n",
        "\n",
        "# Fill missing science scores with the column's mean value\n",
        "df['science_score'] = df['science_score'].fillna(df['science_score'].mean())\n",
        "\n",
        "# Drop rows where 'age' is missing\n",
        "df = df.dropna(subset=['age'])\n",
        "\n",
        "# Convert 'age' column to integer type (if not already)\n",
        "df.loc[:, 'age'] = df['age'].astype(int)\n",
        "\n",
        "# Drop rows where 'student_name' is missing\n",
        "df = df.dropna(subset=['student_name'])\n",
        "\n",
        "# Round science scores to 1 decimal\n",
        "df['science_score'] = df['science_score'].round(1)\n",
        "\n",
        "# Print the cleaned DataFrame\n",
        "print(df)"
      ],
      "metadata": {
        "colab": {
          "base_uri": "https://localhost:8080/"
        },
        "id": "5obvnOn_TBx2",
        "outputId": "fa7b9fd9-e3c7-4964-8068-9140c540c806"
      },
      "execution_count": 31,
      "outputs": [
        {
          "output_type": "stream",
          "name": "stdout",
          "text": [
            "  student_name  math_score  science_score   age          student_info\n",
            "0        Alice        88.0           90.0  23.0  Alice,Female,Grade A\n",
            "1          Bob        92.0           85.0  25.0      Bob,Male,Grade B\n",
            "2      Charlie         0.0           87.0  22.0  Charlie,Male,Grade A\n",
            "3        David        79.0           85.9  24.0    David,Male,Grade C\n",
            "4          Eva        85.0           80.0  21.0    Eva,Female,Grade B\n",
            "5        Frank        90.0           85.9  26.0    Frank,Male,Grade A\n",
            "6        Grace         0.0           88.0  22.0  Grace,Female,Grade C\n",
            "8        Helen        78.0           85.9  23.0  Helen,Female,Grade A\n",
            "9          Ian        91.0           89.0  24.0      Ian,Male,Grade B\n"
          ]
        }
      ]
    },
    {
      "cell_type": "code",
      "source": [
        "# 4. CREATE NEW COLUMNS\n",
        "# Calculate total and average score\n",
        "df['total_score'] = df['math_score'] + df['science_score']\n",
        "df['average_score'] = df['total_score'] / 2\n",
        "print(df)"
      ],
      "metadata": {
        "colab": {
          "base_uri": "https://localhost:8080/"
        },
        "id": "G17ta9FTUZTQ",
        "outputId": "d4a9b61b-3ecb-4a5b-df34-2356b23e10db"
      },
      "execution_count": 32,
      "outputs": [
        {
          "output_type": "stream",
          "name": "stdout",
          "text": [
            "  student_name  math_score  science_score   age          student_info  \\\n",
            "0        Alice        88.0           90.0  23.0  Alice,Female,Grade A   \n",
            "1          Bob        92.0           85.0  25.0      Bob,Male,Grade B   \n",
            "2      Charlie         0.0           87.0  22.0  Charlie,Male,Grade A   \n",
            "3        David        79.0           85.9  24.0    David,Male,Grade C   \n",
            "4          Eva        85.0           80.0  21.0    Eva,Female,Grade B   \n",
            "5        Frank        90.0           85.9  26.0    Frank,Male,Grade A   \n",
            "6        Grace         0.0           88.0  22.0  Grace,Female,Grade C   \n",
            "8        Helen        78.0           85.9  23.0  Helen,Female,Grade A   \n",
            "9          Ian        91.0           89.0  24.0      Ian,Male,Grade B   \n",
            "\n",
            "   total_score  average_score  \n",
            "0        178.0          89.00  \n",
            "1        177.0          88.50  \n",
            "2         87.0          43.50  \n",
            "3        164.9          82.45  \n",
            "4        165.0          82.50  \n",
            "5        175.9          87.95  \n",
            "6         88.0          44.00  \n",
            "8        163.9          81.95  \n",
            "9        180.0          90.00  \n"
          ]
        }
      ]
    },
    {
      "cell_type": "code",
      "source": [
        "# 5. SPLIT A STRING COLUMN INTO MULTIPLE COLUMNS\n",
        "# Split the 'student_info' column by comma into 'first_name', 'gender', and 'grade'\n",
        "df[['first_name', 'gender', 'grade']] = df['student_info'].str.split(',', expand=True)\n",
        "print(df)"
      ],
      "metadata": {
        "colab": {
          "base_uri": "https://localhost:8080/"
        },
        "id": "lfWjwZkgXTKR",
        "outputId": "2b81c36e-4f5e-4f4d-8df7-3b0ca9b509a4"
      },
      "execution_count": 33,
      "outputs": [
        {
          "output_type": "stream",
          "name": "stdout",
          "text": [
            "  student_name  math_score  science_score   age          student_info  \\\n",
            "0        Alice        88.0           90.0  23.0  Alice,Female,Grade A   \n",
            "1          Bob        92.0           85.0  25.0      Bob,Male,Grade B   \n",
            "2      Charlie         0.0           87.0  22.0  Charlie,Male,Grade A   \n",
            "3        David        79.0           85.9  24.0    David,Male,Grade C   \n",
            "4          Eva        85.0           80.0  21.0    Eva,Female,Grade B   \n",
            "5        Frank        90.0           85.9  26.0    Frank,Male,Grade A   \n",
            "6        Grace         0.0           88.0  22.0  Grace,Female,Grade C   \n",
            "8        Helen        78.0           85.9  23.0  Helen,Female,Grade A   \n",
            "9          Ian        91.0           89.0  24.0      Ian,Male,Grade B   \n",
            "\n",
            "   total_score  average_score first_name  gender    grade  \n",
            "0        178.0          89.00      Alice  Female  Grade A  \n",
            "1        177.0          88.50        Bob    Male  Grade B  \n",
            "2         87.0          43.50    Charlie    Male  Grade A  \n",
            "3        164.9          82.45      David    Male  Grade C  \n",
            "4        165.0          82.50        Eva  Female  Grade B  \n",
            "5        175.9          87.95      Frank    Male  Grade A  \n",
            "6         88.0          44.00      Grace  Female  Grade C  \n",
            "8        163.9          81.95      Helen  Female  Grade A  \n",
            "9        180.0          90.00        Ian    Male  Grade B  \n"
          ]
        }
      ]
    },
    {
      "cell_type": "code",
      "source": [
        "# 6. EXTRA ANALYSIS\n",
        "# a) Filter students who received Grade A\n",
        "grade_a_students = df[df['grade'] == 'Grade A']\n",
        "print(grade_a_students)"
      ],
      "metadata": {
        "colab": {
          "base_uri": "https://localhost:8080/"
        },
        "id": "27ism0spXlxZ",
        "outputId": "2a20733a-69eb-4086-d4d2-05f11db69cd5"
      },
      "execution_count": 34,
      "outputs": [
        {
          "output_type": "stream",
          "name": "stdout",
          "text": [
            "  student_name  math_score  science_score   age          student_info  \\\n",
            "0        Alice        88.0           90.0  23.0  Alice,Female,Grade A   \n",
            "2      Charlie         0.0           87.0  22.0  Charlie,Male,Grade A   \n",
            "5        Frank        90.0           85.9  26.0    Frank,Male,Grade A   \n",
            "8        Helen        78.0           85.9  23.0  Helen,Female,Grade A   \n",
            "\n",
            "   total_score  average_score first_name  gender    grade  \n",
            "0        178.0          89.00      Alice  Female  Grade A  \n",
            "2         87.0          43.50    Charlie    Male  Grade A  \n",
            "5        175.9          87.95      Frank    Male  Grade A  \n",
            "8        163.9          81.95      Helen  Female  Grade A  \n"
          ]
        }
      ]
    },
    {
      "cell_type": "code",
      "source": [
        "# b) Calculate average score by gender\n",
        "average_by_gender = df.groupby('gender')['average_score'].mean().reset_index()\n",
        "print(average_by_gender)"
      ],
      "metadata": {
        "colab": {
          "base_uri": "https://localhost:8080/"
        },
        "id": "8Us9e5TDX4j-",
        "outputId": "a04401a7-cc1f-4c9f-a113-c6451ee6b5e2"
      },
      "execution_count": 35,
      "outputs": [
        {
          "output_type": "stream",
          "name": "stdout",
          "text": [
            "   gender  average_score\n",
            "0  Female        74.3625\n",
            "1    Male        78.4800\n"
          ]
        }
      ]
    },
    {
      "cell_type": "code",
      "source": [
        "# c) Sort students by average score in descending order\n",
        "top_performers = df.sort_values(by='average_score', ascending=False)\n",
        "print(top_performers)"
      ],
      "metadata": {
        "colab": {
          "base_uri": "https://localhost:8080/"
        },
        "id": "yfk1qhaYYS5q",
        "outputId": "9e81c99e-9565-462b-ec46-21bef6348c94"
      },
      "execution_count": 36,
      "outputs": [
        {
          "output_type": "stream",
          "name": "stdout",
          "text": [
            "  student_name  math_score  science_score   age          student_info  \\\n",
            "9          Ian        91.0           89.0  24.0      Ian,Male,Grade B   \n",
            "0        Alice        88.0           90.0  23.0  Alice,Female,Grade A   \n",
            "1          Bob        92.0           85.0  25.0      Bob,Male,Grade B   \n",
            "5        Frank        90.0           85.9  26.0    Frank,Male,Grade A   \n",
            "4          Eva        85.0           80.0  21.0    Eva,Female,Grade B   \n",
            "3        David        79.0           85.9  24.0    David,Male,Grade C   \n",
            "8        Helen        78.0           85.9  23.0  Helen,Female,Grade A   \n",
            "6        Grace         0.0           88.0  22.0  Grace,Female,Grade C   \n",
            "2      Charlie         0.0           87.0  22.0  Charlie,Male,Grade A   \n",
            "\n",
            "   total_score  average_score first_name  gender    grade  \n",
            "9        180.0          90.00        Ian    Male  Grade B  \n",
            "0        178.0          89.00      Alice  Female  Grade A  \n",
            "1        177.0          88.50        Bob    Male  Grade B  \n",
            "5        175.9          87.95      Frank    Male  Grade A  \n",
            "4        165.0          82.50        Eva  Female  Grade B  \n",
            "3        164.9          82.45      David    Male  Grade C  \n",
            "8        163.9          81.95      Helen  Female  Grade A  \n",
            "6         88.0          44.00      Grace  Female  Grade C  \n",
            "2         87.0          43.50    Charlie    Male  Grade A  \n"
          ]
        }
      ]
    },
    {
      "cell_type": "code",
      "source": [
        "# 7. SAVE THE FINAL DATA\n",
        "# Save the cleaned and enriched dataset to a new CSV file\n",
        "df.to_csv(\"Students_Final_Data.csv\", index=False)"
      ],
      "metadata": {
        "id": "sn0nPfMlYyCr"
      },
      "execution_count": 38,
      "outputs": []
    },
    {
      "cell_type": "code",
      "source": [
        "# 8. OPTIONAL: PRINT RESULTS TO CHECK\n",
        "print(\"📊 Grade A Students:\")\n",
        "print(grade_a_students)\n",
        "\n",
        "print(\"\\n📊 Average Score by Gender:\")\n",
        "print(average_by_gender)\n",
        "\n",
        "print(\"\\n📊 Top Performers:\")\n",
        "print(top_performers)\n"
      ],
      "metadata": {
        "colab": {
          "base_uri": "https://localhost:8080/"
        },
        "id": "SRGGvw--ZPY6",
        "outputId": "d10affec-9ba0-49ec-d720-972f9a806628"
      },
      "execution_count": 39,
      "outputs": [
        {
          "output_type": "stream",
          "name": "stdout",
          "text": [
            "📊 Grade A Students:\n",
            "  student_name  math_score  science_score   age          student_info  \\\n",
            "0        Alice        88.0           90.0  23.0  Alice,Female,Grade A   \n",
            "2      Charlie         0.0           87.0  22.0  Charlie,Male,Grade A   \n",
            "5        Frank        90.0           85.9  26.0    Frank,Male,Grade A   \n",
            "8        Helen        78.0           85.9  23.0  Helen,Female,Grade A   \n",
            "\n",
            "   total_score  average_score first_name  gender    grade  \n",
            "0        178.0          89.00      Alice  Female  Grade A  \n",
            "2         87.0          43.50    Charlie    Male  Grade A  \n",
            "5        175.9          87.95      Frank    Male  Grade A  \n",
            "8        163.9          81.95      Helen  Female  Grade A  \n",
            "\n",
            "📊 Average Score by Gender:\n",
            "   gender  average_score\n",
            "0  Female        74.3625\n",
            "1    Male        78.4800\n",
            "\n",
            "📊 Top Performers:\n",
            "  student_name  math_score  science_score   age          student_info  \\\n",
            "9          Ian        91.0           89.0  24.0      Ian,Male,Grade B   \n",
            "0        Alice        88.0           90.0  23.0  Alice,Female,Grade A   \n",
            "1          Bob        92.0           85.0  25.0      Bob,Male,Grade B   \n",
            "5        Frank        90.0           85.9  26.0    Frank,Male,Grade A   \n",
            "4          Eva        85.0           80.0  21.0    Eva,Female,Grade B   \n",
            "3        David        79.0           85.9  24.0    David,Male,Grade C   \n",
            "8        Helen        78.0           85.9  23.0  Helen,Female,Grade A   \n",
            "6        Grace         0.0           88.0  22.0  Grace,Female,Grade C   \n",
            "2      Charlie         0.0           87.0  22.0  Charlie,Male,Grade A   \n",
            "\n",
            "   total_score  average_score first_name  gender    grade  \n",
            "9        180.0          90.00        Ian    Male  Grade B  \n",
            "0        178.0          89.00      Alice  Female  Grade A  \n",
            "1        177.0          88.50        Bob    Male  Grade B  \n",
            "5        175.9          87.95      Frank    Male  Grade A  \n",
            "4        165.0          82.50        Eva  Female  Grade B  \n",
            "3        164.9          82.45      David    Male  Grade C  \n",
            "8        163.9          81.95      Helen  Female  Grade A  \n",
            "6         88.0          44.00      Grace  Female  Grade C  \n",
            "2         87.0          43.50    Charlie    Male  Grade A  \n"
          ]
        }
      ]
    }
  ]
}